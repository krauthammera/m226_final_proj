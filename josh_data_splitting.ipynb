{
 "cells": [
  {
   "cell_type": "code",
   "execution_count": 2,
   "id": "2cece32e-bf22-4177-8170-fe38e30721ab",
   "metadata": {},
   "outputs": [
    {
     "name": "stdout",
     "output_type": "stream",
     "text": [
      "Requirement already satisfied: seaborn in c:\\users\\joshu\\anaconda3\\lib\\site-packages (0.11.2)\n",
      "Requirement already satisfied: pandas>=0.23 in c:\\users\\joshu\\anaconda3\\lib\\site-packages (from seaborn) (1.4.4)\n",
      "Requirement already satisfied: scipy>=1.0 in c:\\users\\joshu\\anaconda3\\lib\\site-packages (from seaborn) (1.9.1)\n",
      "Requirement already satisfied: numpy>=1.15 in c:\\users\\joshu\\anaconda3\\lib\\site-packages (from seaborn) (1.21.5)\n",
      "Requirement already satisfied: matplotlib>=2.2 in c:\\users\\joshu\\anaconda3\\lib\\site-packages (from seaborn) (3.5.2)\n",
      "Requirement already satisfied: fonttools>=4.22.0 in c:\\users\\joshu\\anaconda3\\lib\\site-packages (from matplotlib>=2.2->seaborn) (4.25.0)\n",
      "Requirement already satisfied: cycler>=0.10 in c:\\users\\joshu\\anaconda3\\lib\\site-packages (from matplotlib>=2.2->seaborn) (0.11.0)\n",
      "Requirement already satisfied: packaging>=20.0 in c:\\users\\joshu\\anaconda3\\lib\\site-packages (from matplotlib>=2.2->seaborn) (21.3)\n",
      "Requirement already satisfied: pyparsing>=2.2.1 in c:\\users\\joshu\\anaconda3\\lib\\site-packages (from matplotlib>=2.2->seaborn) (3.0.9)\n",
      "Requirement already satisfied: python-dateutil>=2.7 in c:\\users\\joshu\\anaconda3\\lib\\site-packages (from matplotlib>=2.2->seaborn) (2.8.2)\n",
      "Requirement already satisfied: kiwisolver>=1.0.1 in c:\\users\\joshu\\anaconda3\\lib\\site-packages (from matplotlib>=2.2->seaborn) (1.4.2)\n",
      "Requirement already satisfied: pillow>=6.2.0 in c:\\users\\joshu\\anaconda3\\lib\\site-packages (from matplotlib>=2.2->seaborn) (9.2.0)\n",
      "Requirement already satisfied: pytz>=2020.1 in c:\\users\\joshu\\anaconda3\\lib\\site-packages (from pandas>=0.23->seaborn) (2022.1)\n",
      "Requirement already satisfied: six>=1.5 in c:\\users\\joshu\\anaconda3\\lib\\site-packages (from python-dateutil>=2.7->matplotlib>=2.2->seaborn) (1.16.0)\n",
      "Note: you may need to restart the kernel to use updated packages.\n"
     ]
    }
   ],
   "source": [
    "import numpy as np\n",
    "import pandas as pd\n",
    "import matplotlib.pyplot as plt\n",
    "%pip install seaborn\n",
    "import seaborn as sns\n",
    "from sklearn.model_selection import train_test_split\n",
    "from sklearn.ensemble import RandomForestClassifier"
   ]
  },
  {
   "cell_type": "code",
   "execution_count": 6,
   "id": "a26e10cb-7442-4c5d-9ebb-cbd4a4a0cfbb",
   "metadata": {},
   "outputs": [],
   "source": [
    "patients = np.array(['SMC01','SMC02','SMC03','SMC04','SMC05','SMC06','SMC07','SMC08','SMC09','SMC10','SMC11','SMC13','SMC14','SMC15','SMC16','SMC17','SMC18','SMC19','SMC20','SMC21','SMC22','SMC23','SMC24','SMC25','SMC171','KUL01','KUL19','KUL21','KUL28','KUL30','KUL31'])"
   ]
  },
  {
   "cell_type": "code",
   "execution_count": 7,
   "id": "87b9d304-43ea-42a7-8490-81590afb7954",
   "metadata": {},
   "outputs": [],
   "source": [
    "ds1_patients = np.array(['SMC13','SMC171'])\n",
    "ds2_patients = np.array(['SMC01','SMC02','SMC03','SMC04','SMC05','SMC06','SMC07','SMC08','SMC09','SMC10','SMC11','SMC14','SMC15','SMC16','SMC17','SMC18','SMC19','SMC20','SMC21','SMC22','SMC23','SMC24','SMC25'])\n",
    "ds3_patients = np.array(['KUL01','KUL19','KUL21','KUL28','KUL30','KUL31'])"
   ]
  },
  {
   "cell_type": "code",
   "execution_count": 8,
   "id": "53553566-40bd-40b7-a473-d39bee1b1164",
   "metadata": {},
   "outputs": [],
   "source": [
    "p_train,p_test=train_test_split(patients,test_size = 0.1, train_size = 0.8)"
   ]
  },
  {
   "cell_type": "code",
   "execution_count": 9,
   "id": "58d60b3c-f5ef-461c-995c-2fb26266f0f6",
   "metadata": {},
   "outputs": [
    {
     "data": {
      "text/plain": [
       "array(['SMC20', 'SMC19', 'SMC16', 'SMC23', 'SMC17', 'KUL21', 'SMC22',\n",
       "       'SMC171', 'SMC02', 'SMC01', 'SMC10', 'SMC14', 'SMC21', 'KUL28',\n",
       "       'SMC18', 'SMC13', 'SMC04', 'SMC03', 'SMC24', 'SMC05', 'KUL31',\n",
       "       'KUL30', 'SMC25', 'SMC11'], dtype='<U6')"
      ]
     },
     "execution_count": 9,
     "metadata": {},
     "output_type": "execute_result"
    }
   ],
   "source": [
    "p_train"
   ]
  },
  {
   "cell_type": "code",
   "execution_count": 10,
   "id": "819b54f4-ad68-42b8-8595-657e8e9af692",
   "metadata": {},
   "outputs": [
    {
     "data": {
      "text/plain": [
       "array(['KUL01', 'SMC09', 'KUL19', 'SMC15'], dtype='<U6')"
      ]
     },
     "execution_count": 10,
     "metadata": {},
     "output_type": "execute_result"
    }
   ],
   "source": [
    "p_test"
   ]
  },
  {
   "cell_type": "code",
   "execution_count": 11,
   "id": "a75215b1-cec5-4a3d-b12e-cf126997a84b",
   "metadata": {},
   "outputs": [],
   "source": [
    "p_validation = patients\n",
    "p_validation = p_validation.tolist()\n",
    "for i in range(len(p_train)):\n",
    "    K = p_train[i]\n",
    "    while (K in p_validation):\n",
    "        p_validation.remove(K)\n",
    "for i in range(len(p_test)):\n",
    "    K = p_test[i]\n",
    "    while (K in p_validation):\n",
    "        p_validation.remove(K)"
   ]
  },
  {
   "cell_type": "code",
   "execution_count": 12,
   "id": "700cbd62-7f4b-4459-bf64-e4f130ab430d",
   "metadata": {},
   "outputs": [
    {
     "data": {
      "text/plain": [
       "['SMC06', 'SMC07', 'SMC08']"
      ]
     },
     "execution_count": 12,
     "metadata": {},
     "output_type": "execute_result"
    }
   ],
   "source": [
    "p_validation"
   ]
  },
  {
   "cell_type": "code",
   "execution_count": 13,
   "id": "5cbda327-b3ae-477a-97f8-ae67898957b1",
   "metadata": {},
   "outputs": [],
   "source": [
    "p_val = p_validation"
   ]
  },
  {
   "cell_type": "code",
   "execution_count": 14,
   "id": "cb9ea8d3-b60e-4114-8a87-e824e402e1ed",
   "metadata": {},
   "outputs": [],
   "source": [
    "dataset1_annotation = pd.read_csv(\"GSE132257_processed_protocol_and_fresh_frozen_cell_annotation.txt\", header=0, sep='\\t')\n",
    "dataset2_annotation = pd.read_csv(\"GSE132465_GEO_processed_CRC_10X_cell_annotation.txt\",header=0,sep='\\t')\n",
    "dataset3_annotation = pd.read_csv(\"GSE144735_processed_KUL3_CRC_10X_annotation.txt\",header=0,sep='\\t')"
   ]
  },
  {
   "cell_type": "code",
   "execution_count": 15,
   "id": "6bcf0313-d2f0-4f79-9385-1cd3197100f2",
   "metadata": {},
   "outputs": [],
   "source": [
    "dataset1_annotation = dataset1_annotation.to_numpy()\n",
    "dataset2_annotation = dataset2_annotation.to_numpy()\n",
    "dataset3_annotation = dataset3_annotation.to_numpy()"
   ]
  },
  {
   "cell_type": "code",
   "execution_count": 16,
   "id": "92e3750e-0158-49c7-b15f-7d6f629b0b36",
   "metadata": {},
   "outputs": [
    {
     "data": {
      "text/plain": [
       "array([['SMC13N-A1-F_AAACCTGAGATCGGGT', 'SMC13', 'Normal', 'Frozen',\n",
       "        'SMC13N-A1-F', 'T cells'],\n",
       "       ['SMC13N-A1-F_AAACCTGAGGATTCGG', 'SMC13', 'Normal', 'Frozen',\n",
       "        'SMC13N-A1-F', 'T cells'],\n",
       "       ['SMC13N-A1-F_AAACCTGGTACTCAAC', 'SMC13', 'Normal', 'Frozen',\n",
       "        'SMC13N-A1-F', 'T cells'],\n",
       "       ...,\n",
       "       ['SMC171-T-SING_TTTGTCAAGGTGCTAG', 'SMC171', 'Tumor',\n",
       "        'SING protocol', 'SMC171-T-SING', 'T cells'],\n",
       "       ['SMC171-T-SING_TTTGTCACAGCATACT', 'SMC171', 'Tumor',\n",
       "        'SING protocol', 'SMC171-T-SING', 'Epithelial cells'],\n",
       "       ['SMC171-T-SING_TTTGTCAGTCTGGAGA', 'SMC171', 'Tumor',\n",
       "        'SING protocol', 'SMC171-T-SING', 'Epithelial cells']],\n",
       "      dtype=object)"
      ]
     },
     "execution_count": 16,
     "metadata": {},
     "output_type": "execute_result"
    }
   ],
   "source": [
    "dataset1_annotation"
   ]
  },
  {
   "cell_type": "code",
   "execution_count": 20,
   "id": "feec0bbd-bba7-406f-a441-1b35ab86580c",
   "metadata": {},
   "outputs": [],
   "source": [
    "arr = np.concatenate((dataset1_annotation,dataset2_annotation))"
   ]
  },
  {
   "cell_type": "code",
   "execution_count": 21,
   "id": "9c9b022e-6c85-4968-891c-6fb30418bd8a",
   "metadata": {},
   "outputs": [
    {
     "data": {
      "text/plain": [
       "array([['SMC13N-A1-F_AAACCTGAGATCGGGT', 'SMC13', 'Normal', 'Frozen',\n",
       "        'SMC13N-A1-F', 'T cells'],\n",
       "       ['SMC13N-A1-F_AAACCTGAGGATTCGG', 'SMC13', 'Normal', 'Frozen',\n",
       "        'SMC13N-A1-F', 'T cells'],\n",
       "       ['SMC13N-A1-F_AAACCTGGTACTCAAC', 'SMC13', 'Normal', 'Frozen',\n",
       "        'SMC13N-A1-F', 'T cells'],\n",
       "       ...,\n",
       "       ['SMC10-N_TGCTACCGTCTCCATC', 'SMC10', 'Normal', 'SMC10-N',\n",
       "        'Mast cells', 'Mast cells'],\n",
       "       ['SMC10-N_TTTATGCAGTGTCTCA', 'SMC10', 'Normal', 'SMC10-N',\n",
       "        'Mast cells', 'Mast cells'],\n",
       "       ['SMC10-N_TTTGGTTAGTGCCATT', 'SMC10', 'Normal', 'SMC10-N',\n",
       "        'Mast cells', 'Mast cells']], dtype=object)"
      ]
     },
     "execution_count": 21,
     "metadata": {},
     "output_type": "execute_result"
    }
   ],
   "source": [
    "arr"
   ]
  },
  {
   "cell_type": "code",
   "execution_count": 22,
   "id": "99524706-3340-4156-81e1-79e0080177f8",
   "metadata": {},
   "outputs": [],
   "source": [
    "full_data = np.concatenate((arr,dataset3_annotation))"
   ]
  },
  {
   "cell_type": "code",
   "execution_count": 23,
   "id": "525b780d-55e7-4887-affd-0f695526bfd4",
   "metadata": {},
   "outputs": [
    {
     "data": {
      "text/plain": [
       "array([['SMC13N-A1-F_AAACCTGAGATCGGGT', 'SMC13', 'Normal', 'Frozen',\n",
       "        'SMC13N-A1-F', 'T cells'],\n",
       "       ['SMC13N-A1-F_AAACCTGAGGATTCGG', 'SMC13', 'Normal', 'Frozen',\n",
       "        'SMC13N-A1-F', 'T cells'],\n",
       "       ['SMC13N-A1-F_AAACCTGGTACTCAAC', 'SMC13', 'Normal', 'Frozen',\n",
       "        'SMC13N-A1-F', 'T cells'],\n",
       "       ...,\n",
       "       ['KUL31-N_GCCTCTATCGCGGATC', 'KUL31', 'Normal', 'KUL31-N',\n",
       "        'Mast cells', 'Mast cells'],\n",
       "       ['KUL31-N_GGGATGATCACCTCGT', 'KUL31', 'Normal', 'KUL31-N',\n",
       "        'Mast cells', 'Mast cells'],\n",
       "       ['KUL31-N_TTAGTTCTCGGTCCGA', 'KUL31', 'Normal', 'KUL31-N',\n",
       "        'Mast cells', 'Mast cells']], dtype=object)"
      ]
     },
     "execution_count": 23,
     "metadata": {},
     "output_type": "execute_result"
    }
   ],
   "source": [
    "full_data"
   ]
  },
  {
   "cell_type": "code",
   "execution_count": 24,
   "id": "14a20636-3116-4946-a418-0d4a91f286a2",
   "metadata": {},
   "outputs": [
    {
     "data": {
      "text/plain": [
       "109512"
      ]
     },
     "execution_count": 24,
     "metadata": {},
     "output_type": "execute_result"
    }
   ],
   "source": [
    "len(full_data)"
   ]
  },
  {
   "cell_type": "code",
   "execution_count": 25,
   "id": "7f75d31d-513f-46e7-9703-0e511fb24815",
   "metadata": {},
   "outputs": [],
   "source": [
    "col1 = full_data[:,0]"
   ]
  },
  {
   "cell_type": "code",
   "execution_count": 26,
   "id": "bd411a54-63b6-441d-9cf5-b8bcae8358af",
   "metadata": {},
   "outputs": [],
   "source": [
    "col2 = full_data[:,1]\n",
    "col3 = full_data[:,2]"
   ]
  },
  {
   "cell_type": "code",
   "execution_count": 27,
   "id": "de2868b8-0988-4e01-a210-11a453f6e7f1",
   "metadata": {},
   "outputs": [],
   "source": [
    "data = np.column_stack((col1,col2))"
   ]
  },
  {
   "cell_type": "code",
   "execution_count": 28,
   "id": "e09f8c9c-7e88-42cf-82f8-c3cf10275d41",
   "metadata": {},
   "outputs": [],
   "source": [
    "col3 = np.arange(109512)"
   ]
  },
  {
   "cell_type": "code",
   "execution_count": 29,
   "id": "1ef4f698-88f0-4fa7-b243-6dfc8df1fea4",
   "metadata": {},
   "outputs": [],
   "source": [
    "trun_data = np.column_stack((data,col3))"
   ]
  },
  {
   "cell_type": "code",
   "execution_count": 30,
   "id": "8550b6de-359b-49c1-8614-89d7540a2c87",
   "metadata": {},
   "outputs": [
    {
     "data": {
      "text/plain": [
       "array([['SMC13N-A1-F_AAACCTGAGATCGGGT', 'SMC13', 0],\n",
       "       ['SMC13N-A1-F_AAACCTGAGGATTCGG', 'SMC13', 1],\n",
       "       ['SMC13N-A1-F_AAACCTGGTACTCAAC', 'SMC13', 2],\n",
       "       ...,\n",
       "       ['KUL31-N_GCCTCTATCGCGGATC', 'KUL31', 109509],\n",
       "       ['KUL31-N_GGGATGATCACCTCGT', 'KUL31', 109510],\n",
       "       ['KUL31-N_TTAGTTCTCGGTCCGA', 'KUL31', 109511]], dtype=object)"
      ]
     },
     "execution_count": 30,
     "metadata": {},
     "output_type": "execute_result"
    }
   ],
   "source": [
    "trun_data"
   ]
  },
  {
   "cell_type": "code",
   "execution_count": 49,
   "id": "b83f74a3-75e2-47d9-ac39-5f38ee857397",
   "metadata": {},
   "outputs": [],
   "source": [
    "cell_IDs_train = np.array([])\n",
    "indices_train = np.array([])\n",
    "\n",
    "#cell_IDs_test = np.array([])\n",
    "#indices_test = np.array([])\n",
    "\n",
    "#cell_IDs_val = np.array([])\n",
    "#indices_val = np.array([]).astype(int)\n",
    "\n",
    "for i in range(len(p_train)): #for every patient in training set\n",
    "    for d1 in range(len(ds1_patients)):#find out if patient is in first dataset 1\n",
    "        if p_train[i] == ds1_patients[d1]: #if patient is in dataset1\n",
    "            for x in range(len(dataset1_annotation)): #\n",
    "                if p_train[i] == trun_data[x,1]: # if the patient in the training set matches the patient in dataset 1\n",
    "                    cell_IDs_train = np.append(cell_IDs_train,trun_data[x,0]) #record the id\n",
    "                    indices_train = np.append(indices_train,trun_data[x,2]) #record the index\n",
    "    \n",
    "    for d2 in range(len(ds2_patients)): #find out if patient is in first dataset 1\n",
    "        if p_train[i] == ds2_patients[d2]: #if patient is in dataset1\n",
    "            for x in range(len(dataset2_annotation)): #\n",
    "                if p_train[i] == trun_data[len(dataset1_annotation)+x,1]: # if the patient in the training set matches the patient in dataset 1\n",
    "                    cell_IDs_train = np.append(cell_IDs_train,trun_data[len(dataset1_annotation)+x,0]) #record the id\n",
    "                    indices_train = np.append(indices_train,trun_data[len(dataset1_annotation)+x,2]) #record the index\n",
    "    \n",
    "    for d3 in range(len(ds3_patients)): #find out if patient is in first dataset 1\n",
    "        if p_train[i] == ds3_patients[d3]: #if patient is in dataset1\n",
    "            for x in range(len(dataset3_annotation)): #\n",
    "                if p_train[i] == trun_data[len(dataset2_annotation)+len(dataset1_annotation)+x,1]:\n",
    "                   # print(trun_data[len(dataset2_annotation)+len(dataset1_annotation)+x,2])# if the patient in the training set matches the patient in dataset 1\n",
    "                    cell_IDs_train = np.append(cell_IDs_train,trun_data[len(dataset2_annotation)+len(dataset1_annotation)+x,0]) #record the id\n",
    "                    indices_train = np.append(indices_train,trun_data[len(dataset2_annotation)+len(dataset1_annotation)+x,2]) #record the index\n",
    "                                   "
   ]
  },
  {
   "cell_type": "code",
   "execution_count": 51,
   "id": "2ed06e96-4a06-4d30-8162-2b59c0a43b8e",
   "metadata": {},
   "outputs": [
    {
     "data": {
      "text/plain": [
       "array(['SMC20-T_AAACGGGGTAGCACGA', 'SMC20-T_AAAGATGGTTTGACTG',\n",
       "       'SMC20-T_AAAGCAACAAGACACG', ..., 'SMC11-T_TTTGCGCAGATACACA',\n",
       "       'SMC11-T_TTTGCGCCAGTTCCCT', 'SMC11-T_TTTGGTTCAGGATCGA'],\n",
       "      dtype='<U32')"
      ]
     },
     "execution_count": 51,
     "metadata": {},
     "output_type": "execute_result"
    }
   ],
   "source": [
    "cell_IDs_train"
   ]
  },
  {
   "cell_type": "code",
   "execution_count": 52,
   "id": "87c57d50-00e8-41eb-9884-e9de36faa6a2",
   "metadata": {},
   "outputs": [
    {
     "data": {
      "text/plain": [
       "array([30353., 30354., 30355., ..., 75100., 75101., 75102.])"
      ]
     },
     "execution_count": 52,
     "metadata": {},
     "output_type": "execute_result"
    }
   ],
   "source": [
    "indices_train"
   ]
  },
  {
   "cell_type": "code",
   "execution_count": 53,
   "id": "def1743f-ec04-4682-9ce5-619d8b54b276",
   "metadata": {},
   "outputs": [
    {
     "data": {
      "text/plain": [
       "array([30353, 30354, 30355, ..., 75100, 75101, 75102])"
      ]
     },
     "execution_count": 53,
     "metadata": {},
     "output_type": "execute_result"
    }
   ],
   "source": [
    "dummy1 =np.array(indices_train,dtype='int32')\n",
    "dummy1"
   ]
  },
  {
   "cell_type": "code",
   "execution_count": 32,
   "id": "b3f8bd06-ee1c-4831-8438-4fe9778e9743",
   "metadata": {},
   "outputs": [],
   "source": [
    "#cell_IDs_train = np.array([])\n",
    "#indices_train = np.array([])\n",
    "\n",
    "cell_IDs_test = np.array([])\n",
    "indices_test = np.array([])\n",
    "\n",
    "#cell_IDs_val = np.array([])\n",
    "#indices_val = np.array([]).astype(int)\n",
    "\n",
    "for i in range(len(p_test)): #for every patient in training set\n",
    "    for d1 in range(len(ds1_patients)):#find out if patient is in first dataset 1\n",
    "        if p_test[i] == ds1_patients[d1]:\n",
    "            #if patient is in dataset1\n",
    "            for x in range(len(dataset1_annotation)): #\n",
    "                if p_test[i] == trun_data[x,1]: # if the patient in the training set matches the patient in dataset 1\n",
    "                    cell_IDs_test = np.append(cell_IDs_test,trun_data[x,0]) #record the id\n",
    "                    indices_test = np.append(indices_test,trun_data[x,2]) #record the index\n",
    "    \n",
    "    for d2 in range(len(ds2_patients)): #find out if patient is in first dataset 1\n",
    "        if p_test[i] == ds2_patients[d2]: #if patient is in dataset1\n",
    "            for x in range(len(dataset2_annotation)): #\n",
    "                if p_test[i] == trun_data[len(dataset1_annotation)+x,1]: # if the patient in the training set matches the patient in dataset 1\n",
    "                    cell_IDs_test = np.append(cell_IDs_test,trun_data[len(dataset1_annotation)+x,0]) #record the id\n",
    "                    indices_test = np.append(indices_test,trun_data[len(dataset1_annotation)+x,2]) #record the index\n",
    "    \n",
    "    for d3 in range(len(ds3_patients)): #find out if patient is in first dataset 1\n",
    "        if p_test[i] == ds3_patients[d3]: #if patient is in dataset1\n",
    "            for x in range(len(dataset3_annotation)): #\n",
    "                if p_test[i] == trun_data[len(dataset2_annotation)+len(dataset1_annotation)+x,1]:\n",
    "                   # print(trun_data[len(dataset2_annotation)+len(dataset1_annotation)+x,2])# if the patient in the training set matches the patient in dataset 1\n",
    "                    cell_IDs_test = np.append(cell_IDs_test,trun_data[len(dataset2_annotation)+len(dataset1_annotation)+x,0]) #record the id\n",
    "                    indices_test = np.append(indices_test,trun_data[len(dataset2_annotation)+len(dataset1_annotation)+x,2]) #record the index\n",
    "                                   "
   ]
  },
  {
   "cell_type": "code",
   "execution_count": 45,
   "id": "23e60c28-557b-4267-a834-e1cffc29fdb2",
   "metadata": {},
   "outputs": [
    {
     "data": {
      "text/plain": [
       "array([82098., 82099., 82100., ..., 75538., 75539., 75540.])"
      ]
     },
     "execution_count": 45,
     "metadata": {},
     "output_type": "execute_result"
    }
   ],
   "source": [
    "indices_test"
   ]
  },
  {
   "cell_type": "code",
   "execution_count": 54,
   "id": "14cc99d0-d2fa-433d-8088-bc58466010bd",
   "metadata": {},
   "outputs": [
    {
     "data": {
      "text/plain": [
       "array([82098, 82099, 82100, ..., 75538, 75539, 75540])"
      ]
     },
     "execution_count": 54,
     "metadata": {},
     "output_type": "execute_result"
    }
   ],
   "source": [
    "dummy2 = np.array(indices_test,dtype='int32')\n",
    "dummy2"
   ]
  },
  {
   "cell_type": "code",
   "execution_count": 57,
   "id": "b9ecc057-624e-4e11-b1ad-a233c35d0015",
   "metadata": {},
   "outputs": [],
   "source": [
    "#cell_IDs_train = np.array([])\n",
    "#indices_train = np.array([])\n",
    "\n",
    "#cell_IDs_test = np.array([])\n",
    "#indices_test = np.array([])\n",
    "\n",
    "cell_IDs_val = np.array([])\n",
    "indices_val = np.array([]).astype(int)\n",
    "\n",
    "for i in range(len(p_val)): #for every patient in training set\n",
    "    for d1 in range(len(ds1_patients)):#find out if patient is in first dataset 1\n",
    "        if p_val[i] == ds1_patients[d1]:\n",
    "            #if patient is in dataset1\n",
    "            for x in range(len(dataset1_annotation)): #\n",
    "                if p_val[i] == trun_data[x,1]: # if the patient in the training set matches the patient in dataset 1\n",
    "                    cell_IDs_val = np.append(cell_IDs_val,trun_data[x,0]) #record the id\n",
    "                    indices_val = np.append(indices_val,trun_data[x,2]) #record the index\n",
    "    \n",
    "    for d2 in range(len(ds2_patients)): #find out if patient is in first dataset 1\n",
    "        if p_val[i] == ds2_patients[d2]: #if patient is in dataset1\n",
    "            for x in range(len(dataset2_annotation)): #\n",
    "                if p_val[i] == trun_data[len(dataset1_annotation)+x,1]: # if the patient in the training set matches the patient in dataset 1\n",
    "                    cell_IDs_val = np.append(cell_IDs_val,trun_data[len(dataset1_annotation)+x,0]) #record the id\n",
    "                    indices_val = np.append(indices_val,trun_data[len(dataset1_annotation)+x,2]) #record the index\n",
    "    \n",
    "    for d3 in range(len(ds3_patients)): #find out if patient is in first dataset 1\n",
    "        if p_val[i] == ds3_patients[d3]: #if patient is in dataset1\n",
    "            for x in range(len(dataset3_annotation)): #\n",
    "                if p_val[i] == trun_data[len(dataset2_annotation)+len(dataset1_annotation)+x,1]:\n",
    "                   # print(trun_data[len(dataset2_annotation)+len(dataset1_annotation)+x,2])# if the patient in the training set matches the patient in dataset 1\n",
    "                    cell_IDs_val = np.append(cell_IDs_val,trun_data[len(dataset2_annotation)+len(dataset1_annotation)+x,0]) #record the id\n",
    "                    indices_val = np.append(indices_val,trun_data[len(dataset2_annotation)+len(dataset1_annotation)+x,2]) #record the index\n",
    "                                   "
   ]
  },
  {
   "cell_type": "code",
   "execution_count": 58,
   "id": "cefd83ef-b97f-4fdc-b449-672757df5f8d",
   "metadata": {},
   "outputs": [
    {
     "data": {
      "text/plain": [
       "array(['SMC06-T_AAAGTAGGTTCCCTTG', 'SMC06-T_AACACGTAGCTAACTC',\n",
       "       'SMC06-T_AACTCTTGTGAGCGAT', ..., 'SMC08-N_TGTGTTTCAATGCCAT',\n",
       "       'SMC08-N_TGTTCCGTCTCAACTT', 'SMC08-N_TTAACTCGTAGAGTGC'],\n",
       "      dtype='<U32')"
      ]
     },
     "execution_count": 58,
     "metadata": {},
     "output_type": "execute_result"
    }
   ],
   "source": [
    "cell_IDs_val"
   ]
  },
  {
   "cell_type": "code",
   "execution_count": 59,
   "id": "f13a4e32-700d-46d3-8fc1-582efa75abd6",
   "metadata": {},
   "outputs": [
    {
     "data": {
      "text/plain": [
       "array([20970, 20971, 20972, ..., 82061, 82062, 82063])"
      ]
     },
     "execution_count": 59,
     "metadata": {},
     "output_type": "execute_result"
    }
   ],
   "source": [
    "indices_val"
   ]
  },
  {
   "cell_type": "code",
   "execution_count": 61,
   "id": "b030adca-0b86-4ebb-9854-d24704677336",
   "metadata": {},
   "outputs": [
    {
     "data": {
      "text/plain": [
       "array([20970, 20971, 20972, ..., 82061, 82062, 82063])"
      ]
     },
     "execution_count": 61,
     "metadata": {},
     "output_type": "execute_result"
    }
   ],
   "source": [
    "dummy3 = np.array(indices_val,dtype='int32')\n",
    "dummy3"
   ]
  },
  {
   "cell_type": "code",
   "execution_count": 62,
   "id": "5a3a062e-b37f-42fd-8f7f-787138f299fe",
   "metadata": {},
   "outputs": [],
   "source": [
    "val_check = pd.DataFrame(indices_val)"
   ]
  },
  {
   "cell_type": "code",
   "execution_count": 63,
   "id": "f39aea41-f7d9-4b9a-8875-efd7e1a78327",
   "metadata": {},
   "outputs": [],
   "source": [
    "val_check.to_csv(\"val_check\", sep='\\t',index = False)"
   ]
  },
  {
   "cell_type": "code",
   "execution_count": 64,
   "id": "c459c020-2b18-474f-a7c5-d803018074c6",
   "metadata": {},
   "outputs": [],
   "source": [
    "training_set = np.column_stack((cell_IDs_train,dummy1))"
   ]
  },
  {
   "cell_type": "code",
   "execution_count": 65,
   "id": "d429b8b7-913d-4c3b-b6f8-08fdd781e865",
   "metadata": {},
   "outputs": [
    {
     "data": {
      "text/plain": [
       "array([['SMC20-T_AAACGGGGTAGCACGA', '30353'],\n",
       "       ['SMC20-T_AAAGATGGTTTGACTG', '30354'],\n",
       "       ['SMC20-T_AAAGCAACAAGACACG', '30355'],\n",
       "       ...,\n",
       "       ['SMC11-T_TTTGCGCAGATACACA', '75100'],\n",
       "       ['SMC11-T_TTTGCGCCAGTTCCCT', '75101'],\n",
       "       ['SMC11-T_TTTGGTTCAGGATCGA', '75102']], dtype='<U32')"
      ]
     },
     "execution_count": 65,
     "metadata": {},
     "output_type": "execute_result"
    }
   ],
   "source": [
    "training_set"
   ]
  },
  {
   "cell_type": "code",
   "execution_count": 66,
   "id": "53255781-1afa-430b-8544-5195aa3a2bb5",
   "metadata": {},
   "outputs": [],
   "source": [
    "test_set = np.column_stack((cell_IDs_test,dummy2))"
   ]
  },
  {
   "cell_type": "code",
   "execution_count": 67,
   "id": "4ed87695-69f4-4431-b480-21d9cdf12d44",
   "metadata": {},
   "outputs": [
    {
     "data": {
      "text/plain": [
       "array([['KUL01-T_AAACCTGGTCTTTCAT', '82098'],\n",
       "       ['KUL01-T_AAACGGGTCGGTTAAC', '82099'],\n",
       "       ['KUL01-T_AAAGATGGTATAGGGC', '82100'],\n",
       "       ...,\n",
       "       ['SMC15-T_TTTGCGCTCATCTGTT', '75538'],\n",
       "       ['SMC15-T_TTTGGTTAGTCGTTTG', '75539'],\n",
       "       ['SMC15-T_TTTGGTTTCTACCAGA', '75540']], dtype='<U32')"
      ]
     },
     "execution_count": 67,
     "metadata": {},
     "output_type": "execute_result"
    }
   ],
   "source": [
    "test_set"
   ]
  },
  {
   "cell_type": "code",
   "execution_count": 68,
   "id": "8179f12e-e880-4197-a5e4-0f68a49f8df7",
   "metadata": {},
   "outputs": [],
   "source": [
    "val_set = np.column_stack((cell_IDs_val,dummy3))"
   ]
  },
  {
   "cell_type": "code",
   "execution_count": 69,
   "id": "f22ae58b-b5e5-4a47-8563-590848ad10ff",
   "metadata": {},
   "outputs": [
    {
     "data": {
      "text/plain": [
       "array([['SMC06-T_AAAGTAGGTTCCCTTG', '20970'],\n",
       "       ['SMC06-T_AACACGTAGCTAACTC', '20971'],\n",
       "       ['SMC06-T_AACTCTTGTGAGCGAT', '20972'],\n",
       "       ...,\n",
       "       ['SMC08-N_TGTGTTTCAATGCCAT', '82061'],\n",
       "       ['SMC08-N_TGTTCCGTCTCAACTT', '82062'],\n",
       "       ['SMC08-N_TTAACTCGTAGAGTGC', '82063']], dtype='<U32')"
      ]
     },
     "execution_count": 69,
     "metadata": {},
     "output_type": "execute_result"
    }
   ],
   "source": [
    "val_set"
   ]
  },
  {
   "cell_type": "code",
   "execution_count": 73,
   "id": "642426c0-747b-4772-ab35-5eeba5f3a443",
   "metadata": {},
   "outputs": [],
   "source": [
    "new_pd_val_set = pd.DataFrame(val_set)\n",
    "new_pd_train_set = pd.DataFrame(training_set)\n",
    "new_pd_test_set = pd.DataFrame(test_set)"
   ]
  },
  {
   "cell_type": "code",
   "execution_count": 71,
   "id": "6ab2238e-9ff2-4177-8dd9-8a4f70234389",
   "metadata": {},
   "outputs": [],
   "source": [
    "new_pd_val_set[1] = new_pd_val_set[1].astype(int)\n",
    "new_pd_train_set[1] = new_pd_train_set[1].astype(int)\n",
    "new_pd_test_set[1] = new_pd_test_set[1].astype(int)\n"
   ]
  },
  {
   "cell_type": "code",
   "execution_count": 74,
   "id": "3bb64e67-432f-4db6-8020-7098c10c1fdf",
   "metadata": {},
   "outputs": [],
   "source": [
    "new_pd_val_set.to_csv(\"patient_split_validation.tsv\", sep='\\t',index = False)\n",
    "new_pd_train_set.to_csv(\"patient_split_train.tsv\", sep='\\t',index = False)\n",
    "new_pd_test_set.to_csv(\"patient_split_test.tsv\", sep='\\t',index = False)"
   ]
  },
  {
   "cell_type": "code",
   "execution_count": null,
   "id": "1db90c2c-bf26-479e-9301-f73abc8ef27d",
   "metadata": {},
   "outputs": [],
   "source": []
  }
 ],
 "metadata": {
  "kernelspec": {
   "display_name": "Python 3 (ipykernel)",
   "language": "python",
   "name": "python3"
  },
  "language_info": {
   "codemirror_mode": {
    "name": "ipython",
    "version": 3
   },
   "file_extension": ".py",
   "mimetype": "text/x-python",
   "name": "python",
   "nbconvert_exporter": "python",
   "pygments_lexer": "ipython3",
   "version": "3.9.13"
  }
 },
 "nbformat": 4,
 "nbformat_minor": 5
}
